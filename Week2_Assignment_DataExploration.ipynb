{
 "cells": [
  {
   "cell_type": "markdown",
   "metadata": {},
   "source": [
    "## Week2 Assignment   \n",
    "Welcome to week2 assignment notebook! This is a place that I practice coding for week2 materials 😀\n",
    "\n",
    "What I am doing here:   \n",
    "In this notebook, I will explore a dataset showing bike sharing ridership provided by LA Metro. You can find the data [here](https://bikeshare.metro.net/about/data/). I will use the data about the fourth quarter of 2020. Data consists of many columns that explain people's trips specifically. It has columns like start station, end station, duration time, coordinates of the stations and so on. And the format is csv. Through this notebook, I will find which station has the most user and list them in order by graphs.\n",
    "\n",
    "What each columns mean-   \n",
    "trip_id: Locally unique integer that identifies the trip   \n",
    "duration: Length of trip in minutes   \n",
    "start_time: The date/time when the trip began, presented in ISO 8601 format in local time   \n",
    "end_time: The date/time when the trip ended, presented in ISO 8601 format in local time   \n",
    "start_station: The station ID where the trip originated (for station name and more information on each station see the Station Table)   \n",
    "start_lat: The latitude of the station where the trip originated   \n",
    "start_lon: The longitude of the station where the trip originated   \n",
    "end_station: The station ID where the trip terminated (for station name and more information on each station see the Station Table)   \n",
    "end_lat: The latitude of the station where the trip terminated   \n",
    "end_lon: The longitude of the station where the trip terminated   \n",
    "bike_id:  Locally unique integer that identifies the bike   \n",
    "plan_duration: The number of days that the plan the passholder is using entitles them to ride; 0 is used for a single ride plan (Walk-up)   \n",
    "trip_route_category: \"Round Trip\" for trips starting and ending at the same station or \"One Way\" for all other trips   \n",
    "passholder_type: The name of the passholder's plan   \n",
    "bike_type: The kind of bike used on the trip, including standard pedal-powered bikes, electric assist bikes, or smart bikes.   \n",
    "\n",
    "\n",
    "### A quick Geopandas teaser\n",
    "I will start by importing geopandas to the notebook"
   ]
  },
  {
   "cell_type": "code",
   "execution_count": 32,
   "metadata": {},
   "outputs": [],
   "source": [
    "import geopandas as gpd"
   ]
  },
  {
   "cell_type": "markdown",
   "metadata": {},
   "source": [
    "Next, I will import a dataset. I uploaded data to the notebook."
   ]
  },
  {
   "cell_type": "code",
   "execution_count": 33,
   "metadata": {},
   "outputs": [],
   "source": [
    "bike = gpd.read_file('data/metro-trips-2020-q4.csv')"
   ]
  },
  {
   "cell_type": "markdown",
   "metadata": {},
   "source": [
    "I want to check data type."
   ]
  },
  {
   "cell_type": "code",
   "execution_count": 34,
   "metadata": {},
   "outputs": [
    {
     "data": {
      "text/plain": [
       "geopandas.geodataframe.GeoDataFrame"
      ]
     },
     "execution_count": 34,
     "metadata": {},
     "output_type": "execute_result"
    }
   ],
   "source": [
    "type(bike)"
   ]
  },
  {
   "cell_type": "markdown",
   "metadata": {
    "slideshow": {
     "slide_type": "slide"
    }
   },
   "source": [
    "I want to check how the data looks by checking the first five rows."
   ]
  },
  {
   "cell_type": "code",
   "execution_count": 35,
   "metadata": {},
   "outputs": [
    {
     "data": {
      "text/html": [
       "<div>\n",
       "<style scoped>\n",
       "    .dataframe tbody tr th:only-of-type {\n",
       "        vertical-align: middle;\n",
       "    }\n",
       "\n",
       "    .dataframe tbody tr th {\n",
       "        vertical-align: top;\n",
       "    }\n",
       "\n",
       "    .dataframe thead th {\n",
       "        text-align: right;\n",
       "    }\n",
       "</style>\n",
       "<table border=\"1\" class=\"dataframe\">\n",
       "  <thead>\n",
       "    <tr style=\"text-align: right;\">\n",
       "      <th></th>\n",
       "      <th>trip_id</th>\n",
       "      <th>duration</th>\n",
       "      <th>start_time</th>\n",
       "      <th>end_time</th>\n",
       "      <th>start_station</th>\n",
       "      <th>start_lat</th>\n",
       "      <th>start_lon</th>\n",
       "      <th>end_station</th>\n",
       "      <th>end_lat</th>\n",
       "      <th>end_lon</th>\n",
       "      <th>bike_id</th>\n",
       "      <th>plan_duration</th>\n",
       "      <th>trip_route_category</th>\n",
       "      <th>passholder_type</th>\n",
       "      <th>bike_type</th>\n",
       "      <th>geometry</th>\n",
       "    </tr>\n",
       "  </thead>\n",
       "  <tbody>\n",
       "    <tr>\n",
       "      <th>0</th>\n",
       "      <td>148179433</td>\n",
       "      <td>14</td>\n",
       "      <td>10/1/2020 0:06</td>\n",
       "      <td>10/1/2020 0:20</td>\n",
       "      <td>3042</td>\n",
       "      <td>34.049301</td>\n",
       "      <td>-118.238808</td>\n",
       "      <td>3074</td>\n",
       "      <td>34.04417</td>\n",
       "      <td>-118.261169</td>\n",
       "      <td>6378</td>\n",
       "      <td>30</td>\n",
       "      <td>One Way</td>\n",
       "      <td>Monthly Pass</td>\n",
       "      <td>standard</td>\n",
       "      <td>None</td>\n",
       "    </tr>\n",
       "    <tr>\n",
       "      <th>1</th>\n",
       "      <td>148179933</td>\n",
       "      <td>18</td>\n",
       "      <td>10/1/2020 0:25</td>\n",
       "      <td>10/1/2020 0:43</td>\n",
       "      <td>4404</td>\n",
       "      <td>34.04813</td>\n",
       "      <td>-118.271027</td>\n",
       "      <td>4444</td>\n",
       "      <td>34.061619</td>\n",
       "      <td>-118.305573</td>\n",
       "      <td>12440</td>\n",
       "      <td>30</td>\n",
       "      <td>One Way</td>\n",
       "      <td>Monthly Pass</td>\n",
       "      <td>standard</td>\n",
       "      <td>None</td>\n",
       "    </tr>\n",
       "    <tr>\n",
       "      <th>2</th>\n",
       "      <td>148182639</td>\n",
       "      <td>141</td>\n",
       "      <td>10/1/2020 0:29</td>\n",
       "      <td>10/1/2020 2:50</td>\n",
       "      <td>4482</td>\n",
       "      <td>34.094372</td>\n",
       "      <td>-118.331009</td>\n",
       "      <td>4482</td>\n",
       "      <td>34.094372</td>\n",
       "      <td>-118.331009</td>\n",
       "      <td>19803</td>\n",
       "      <td>1</td>\n",
       "      <td>Round Trip</td>\n",
       "      <td>Walk-up</td>\n",
       "      <td>electric</td>\n",
       "      <td>None</td>\n",
       "    </tr>\n",
       "    <tr>\n",
       "      <th>3</th>\n",
       "      <td>148182739</td>\n",
       "      <td>141</td>\n",
       "      <td>10/1/2020 0:29</td>\n",
       "      <td>10/1/2020 2:50</td>\n",
       "      <td>4482</td>\n",
       "      <td>34.094372</td>\n",
       "      <td>-118.331009</td>\n",
       "      <td>4482</td>\n",
       "      <td>34.094372</td>\n",
       "      <td>-118.331009</td>\n",
       "      <td>18915</td>\n",
       "      <td>1</td>\n",
       "      <td>Round Trip</td>\n",
       "      <td>Walk-up</td>\n",
       "      <td>electric</td>\n",
       "      <td>None</td>\n",
       "    </tr>\n",
       "    <tr>\n",
       "      <th>4</th>\n",
       "      <td>148180233</td>\n",
       "      <td>15</td>\n",
       "      <td>10/1/2020 0:42</td>\n",
       "      <td>10/1/2020 0:57</td>\n",
       "      <td>3074</td>\n",
       "      <td>34.04417</td>\n",
       "      <td>-118.261169</td>\n",
       "      <td>3042</td>\n",
       "      <td>34.049301</td>\n",
       "      <td>-118.238808</td>\n",
       "      <td>20062</td>\n",
       "      <td>30</td>\n",
       "      <td>One Way</td>\n",
       "      <td>Monthly Pass</td>\n",
       "      <td>standard</td>\n",
       "      <td>None</td>\n",
       "    </tr>\n",
       "  </tbody>\n",
       "</table>\n",
       "</div>"
      ],
      "text/plain": [
       "     trip_id duration      start_time        end_time start_station  \\\n",
       "0  148179433       14  10/1/2020 0:06  10/1/2020 0:20          3042   \n",
       "1  148179933       18  10/1/2020 0:25  10/1/2020 0:43          4404   \n",
       "2  148182639      141  10/1/2020 0:29  10/1/2020 2:50          4482   \n",
       "3  148182739      141  10/1/2020 0:29  10/1/2020 2:50          4482   \n",
       "4  148180233       15  10/1/2020 0:42  10/1/2020 0:57          3074   \n",
       "\n",
       "   start_lat    start_lon end_station    end_lat      end_lon bike_id  \\\n",
       "0  34.049301  -118.238808        3074   34.04417  -118.261169    6378   \n",
       "1   34.04813  -118.271027        4444  34.061619  -118.305573   12440   \n",
       "2  34.094372  -118.331009        4482  34.094372  -118.331009   19803   \n",
       "3  34.094372  -118.331009        4482  34.094372  -118.331009   18915   \n",
       "4   34.04417  -118.261169        3042  34.049301  -118.238808   20062   \n",
       "\n",
       "  plan_duration trip_route_category passholder_type bike_type geometry  \n",
       "0            30             One Way    Monthly Pass  standard     None  \n",
       "1            30             One Way    Monthly Pass  standard     None  \n",
       "2             1          Round Trip         Walk-up  electric     None  \n",
       "3             1          Round Trip         Walk-up  electric     None  \n",
       "4            30             One Way    Monthly Pass  standard     None  "
      ]
     },
     "execution_count": 35,
     "metadata": {},
     "output_type": "execute_result"
    }
   ],
   "source": [
    "bike.head()"
   ]
  },
  {
   "cell_type": "markdown",
   "metadata": {},
   "source": [
    "and also the last five rows.."
   ]
  },
  {
   "cell_type": "code",
   "execution_count": 36,
   "metadata": {},
   "outputs": [
    {
     "data": {
      "text/html": [
       "<div>\n",
       "<style scoped>\n",
       "    .dataframe tbody tr th:only-of-type {\n",
       "        vertical-align: middle;\n",
       "    }\n",
       "\n",
       "    .dataframe tbody tr th {\n",
       "        vertical-align: top;\n",
       "    }\n",
       "\n",
       "    .dataframe thead th {\n",
       "        text-align: right;\n",
       "    }\n",
       "</style>\n",
       "<table border=\"1\" class=\"dataframe\">\n",
       "  <thead>\n",
       "    <tr style=\"text-align: right;\">\n",
       "      <th></th>\n",
       "      <th>trip_id</th>\n",
       "      <th>duration</th>\n",
       "      <th>start_time</th>\n",
       "      <th>end_time</th>\n",
       "      <th>start_station</th>\n",
       "      <th>start_lat</th>\n",
       "      <th>start_lon</th>\n",
       "      <th>end_station</th>\n",
       "      <th>end_lat</th>\n",
       "      <th>end_lon</th>\n",
       "      <th>bike_id</th>\n",
       "      <th>plan_duration</th>\n",
       "      <th>trip_route_category</th>\n",
       "      <th>passholder_type</th>\n",
       "      <th>bike_type</th>\n",
       "      <th>geometry</th>\n",
       "    </tr>\n",
       "  </thead>\n",
       "  <tbody>\n",
       "    <tr>\n",
       "      <th>37872</th>\n",
       "      <td>151711987</td>\n",
       "      <td>126</td>\n",
       "      <td>12/31/2020 23:00</td>\n",
       "      <td>1/1/2021 1:06</td>\n",
       "      <td>4210</td>\n",
       "      <td>33.984341</td>\n",
       "      <td>-118.47155</td>\n",
       "      <td>4210</td>\n",
       "      <td>33.984341</td>\n",
       "      <td>-118.47155</td>\n",
       "      <td>6551</td>\n",
       "      <td>1</td>\n",
       "      <td>Round Trip</td>\n",
       "      <td>One Day Pass</td>\n",
       "      <td>standard</td>\n",
       "      <td>None</td>\n",
       "    </tr>\n",
       "    <tr>\n",
       "      <th>37873</th>\n",
       "      <td>151709683</td>\n",
       "      <td>15</td>\n",
       "      <td>12/31/2020 23:06</td>\n",
       "      <td>12/31/2020 23:21</td>\n",
       "      <td>3052</td>\n",
       "      <td>34.051102</td>\n",
       "      <td>-118.264557</td>\n",
       "      <td>4518</td>\n",
       "      <td>34.057968</td>\n",
       "      <td>-118.299751</td>\n",
       "      <td>6221</td>\n",
       "      <td>30</td>\n",
       "      <td>One Way</td>\n",
       "      <td>Monthly Pass</td>\n",
       "      <td>standard</td>\n",
       "      <td>None</td>\n",
       "    </tr>\n",
       "    <tr>\n",
       "      <th>37874</th>\n",
       "      <td>151710184</td>\n",
       "      <td>6</td>\n",
       "      <td>12/31/2020 23:42</td>\n",
       "      <td>12/31/2020 23:48</td>\n",
       "      <td>4516</td>\n",
       "      <td>34.045849</td>\n",
       "      <td>-118.254402</td>\n",
       "      <td>3052</td>\n",
       "      <td>34.051102</td>\n",
       "      <td>-118.264557</td>\n",
       "      <td>12305</td>\n",
       "      <td>1</td>\n",
       "      <td>One Way</td>\n",
       "      <td>Walk-up</td>\n",
       "      <td>standard</td>\n",
       "      <td>None</td>\n",
       "    </tr>\n",
       "    <tr>\n",
       "      <th>37875</th>\n",
       "      <td>151710183</td>\n",
       "      <td>6</td>\n",
       "      <td>12/31/2020 23:42</td>\n",
       "      <td>12/31/2020 23:48</td>\n",
       "      <td>4516</td>\n",
       "      <td>34.045849</td>\n",
       "      <td>-118.254402</td>\n",
       "      <td>3052</td>\n",
       "      <td>34.051102</td>\n",
       "      <td>-118.264557</td>\n",
       "      <td>6476</td>\n",
       "      <td>1</td>\n",
       "      <td>One Way</td>\n",
       "      <td>Walk-up</td>\n",
       "      <td>standard</td>\n",
       "      <td>None</td>\n",
       "    </tr>\n",
       "    <tr>\n",
       "      <th>37876</th>\n",
       "      <td>151710983</td>\n",
       "      <td>39</td>\n",
       "      <td>12/31/2020 23:46</td>\n",
       "      <td>1/1/2021 0:25</td>\n",
       "      <td>4401</td>\n",
       "      <td>34.075611</td>\n",
       "      <td>-118.291862</td>\n",
       "      <td>4401</td>\n",
       "      <td>34.075611</td>\n",
       "      <td>-118.291862</td>\n",
       "      <td>6038</td>\n",
       "      <td>1</td>\n",
       "      <td>Round Trip</td>\n",
       "      <td>One Day Pass</td>\n",
       "      <td>standard</td>\n",
       "      <td>None</td>\n",
       "    </tr>\n",
       "  </tbody>\n",
       "</table>\n",
       "</div>"
      ],
      "text/plain": [
       "         trip_id duration        start_time          end_time start_station  \\\n",
       "37872  151711987      126  12/31/2020 23:00     1/1/2021 1:06          4210   \n",
       "37873  151709683       15  12/31/2020 23:06  12/31/2020 23:21          3052   \n",
       "37874  151710184        6  12/31/2020 23:42  12/31/2020 23:48          4516   \n",
       "37875  151710183        6  12/31/2020 23:42  12/31/2020 23:48          4516   \n",
       "37876  151710983       39  12/31/2020 23:46     1/1/2021 0:25          4401   \n",
       "\n",
       "       start_lat    start_lon end_station    end_lat      end_lon bike_id  \\\n",
       "37872  33.984341   -118.47155        4210  33.984341   -118.47155    6551   \n",
       "37873  34.051102  -118.264557        4518  34.057968  -118.299751    6221   \n",
       "37874  34.045849  -118.254402        3052  34.051102  -118.264557   12305   \n",
       "37875  34.045849  -118.254402        3052  34.051102  -118.264557    6476   \n",
       "37876  34.075611  -118.291862        4401  34.075611  -118.291862    6038   \n",
       "\n",
       "      plan_duration trip_route_category passholder_type bike_type geometry  \n",
       "37872             1          Round Trip    One Day Pass  standard     None  \n",
       "37873            30             One Way    Monthly Pass  standard     None  \n",
       "37874             1             One Way         Walk-up  standard     None  \n",
       "37875             1             One Way         Walk-up  standard     None  \n",
       "37876             1          Round Trip    One Day Pass  standard     None  "
      ]
     },
     "execution_count": 36,
     "metadata": {},
     "output_type": "execute_result"
    }
   ],
   "source": [
    "bike.tail()"
   ]
  },
  {
   "cell_type": "markdown",
   "metadata": {},
   "source": [
    "### Pandas data types"
   ]
  },
  {
   "cell_type": "code",
   "execution_count": 37,
   "metadata": {},
   "outputs": [
    {
     "data": {
      "text/plain": [
       "trip_id                  object\n",
       "duration                 object\n",
       "start_time               object\n",
       "end_time                 object\n",
       "start_station            object\n",
       "start_lat                object\n",
       "start_lon                object\n",
       "end_station              object\n",
       "end_lat                  object\n",
       "end_lon                  object\n",
       "bike_id                  object\n",
       "plan_duration            object\n",
       "trip_route_category      object\n",
       "passholder_type          object\n",
       "bike_type                object\n",
       "geometry               geometry\n",
       "dtype: object"
      ]
     },
     "execution_count": 37,
     "metadata": {},
     "output_type": "execute_result"
    }
   ],
   "source": [
    "bike.dtypes"
   ]
  },
  {
   "cell_type": "markdown",
   "metadata": {},
   "source": [
    "Moving to next step to better see the data types."
   ]
  },
  {
   "cell_type": "code",
   "execution_count": 38,
   "metadata": {},
   "outputs": [
    {
     "name": "stdout",
     "output_type": "stream",
     "text": [
      "<class 'geopandas.geodataframe.GeoDataFrame'>\n",
      "RangeIndex: 37877 entries, 0 to 37876\n",
      "Data columns (total 16 columns):\n",
      " #   Column               Non-Null Count  Dtype   \n",
      "---  ------               --------------  -----   \n",
      " 0   trip_id              37877 non-null  object  \n",
      " 1   duration             37877 non-null  object  \n",
      " 2   start_time           37877 non-null  object  \n",
      " 3   end_time             37877 non-null  object  \n",
      " 4   start_station        37877 non-null  object  \n",
      " 5   start_lat            37877 non-null  object  \n",
      " 6   start_lon            37877 non-null  object  \n",
      " 7   end_station          37877 non-null  object  \n",
      " 8   end_lat              37877 non-null  object  \n",
      " 9   end_lon              37877 non-null  object  \n",
      " 10  bike_id              37877 non-null  object  \n",
      " 11  plan_duration        37877 non-null  object  \n",
      " 12  trip_route_category  37877 non-null  object  \n",
      " 13  passholder_type      37877 non-null  object  \n",
      " 14  bike_type            37877 non-null  object  \n",
      " 15  geometry             0 non-null      geometry\n",
      "dtypes: geometry(1), object(15)\n",
      "memory usage: 4.6+ MB\n"
     ]
    }
   ],
   "source": [
    "bike.info()"
   ]
  },
  {
   "cell_type": "markdown",
   "metadata": {},
   "source": [
    "### Data exploration"
   ]
  },
  {
   "cell_type": "code",
   "execution_count": 39,
   "metadata": {},
   "outputs": [
    {
     "data": {
      "text/plain": [
       "(37877, 16)"
      ]
     },
     "execution_count": 39,
     "metadata": {},
     "output_type": "execute_result"
    }
   ],
   "source": [
    "bike.shape"
   ]
  },
  {
   "cell_type": "markdown",
   "metadata": {},
   "source": [
    "I want to see the header."
   ]
  },
  {
   "cell_type": "code",
   "execution_count": 40,
   "metadata": {},
   "outputs": [
    {
     "data": {
      "text/plain": [
       "Index(['trip_id', 'duration', 'start_time', 'end_time', 'start_station',\n",
       "       'start_lat', 'start_lon', 'end_station', 'end_lat', 'end_lon',\n",
       "       'bike_id', 'plan_duration', 'trip_route_category', 'passholder_type',\n",
       "       'bike_type', 'geometry'],\n",
       "      dtype='object')"
      ]
     },
     "execution_count": 40,
     "metadata": {},
     "output_type": "execute_result"
    }
   ],
   "source": [
    "bike.columns"
   ]
  },
  {
   "cell_type": "code",
   "execution_count": 41,
   "metadata": {},
   "outputs": [
    {
     "data": {
      "text/plain": [
       "['trip_id',\n",
       " 'duration',\n",
       " 'start_time',\n",
       " 'end_time',\n",
       " 'start_station',\n",
       " 'start_lat',\n",
       " 'start_lon',\n",
       " 'end_station',\n",
       " 'end_lat',\n",
       " 'end_lon',\n",
       " 'bike_id',\n",
       " 'plan_duration',\n",
       " 'trip_route_category',\n",
       " 'passholder_type',\n",
       " 'bike_type',\n",
       " 'geometry']"
      ]
     },
     "execution_count": 41,
     "metadata": {},
     "output_type": "execute_result"
    }
   ],
   "source": [
    "bike.columns.to_list()"
   ]
  },
  {
   "cell_type": "markdown",
   "metadata": {},
   "source": [
    "I want to know how many trips were generated and ended in each station."
   ]
  },
  {
   "cell_type": "code",
   "execution_count": 42,
   "metadata": {},
   "outputs": [
    {
     "data": {
      "text/plain": [
       "3005    1589\n",
       "4210    1128\n",
       "3035    1015\n",
       "3006     874\n",
       "4491     816\n",
       "        ... \n",
       "4500      11\n",
       "4573      11\n",
       "4569      10\n",
       "4559       9\n",
       "4432       1\n",
       "Name: start_station, Length: 200, dtype: int64"
      ]
     },
     "execution_count": 42,
     "metadata": {},
     "output_type": "execute_result"
    }
   ],
   "source": [
    "bike['start_station'].value_counts()"
   ]
  },
  {
   "cell_type": "code",
   "execution_count": 43,
   "metadata": {},
   "outputs": [
    {
     "data": {
      "text/plain": [
       "3005    1575\n",
       "4210    1090\n",
       "3000    1029\n",
       "3035     964\n",
       "4215     928\n",
       "        ... \n",
       "4557      11\n",
       "4559      10\n",
       "4432       9\n",
       "4416       8\n",
       "4500       6\n",
       "Name: end_station, Length: 200, dtype: int64"
      ]
     },
     "execution_count": 43,
     "metadata": {},
     "output_type": "execute_result"
    }
   ],
   "source": [
    "bike['end_station'].value_counts()"
   ]
  },
  {
   "cell_type": "markdown",
   "metadata": {},
   "source": [
    "Description of operation:   \n",
    "\n",
    "\n",
    "**We can see that station 3005 and 4210 is top ranked in both the originatiion and destination for bike trips**\n",
    "\n",
    "**(3005 is '7th & Flower' station and 4210 is 'Ocean Front Walk & North Venice' station)**"
   ]
  },
  {
   "cell_type": "markdown",
   "metadata": {},
   "source": [
    "I want to save this as a variable. From now on I will conduct same code for both the starting station(origination) and ending station(destination)."
   ]
  },
  {
   "cell_type": "code",
   "execution_count": 44,
   "metadata": {},
   "outputs": [],
   "source": [
    "S_station_count = bike['start_station'].value_counts()\n",
    "E_station_count = bike['end_station'].value_counts()"
   ]
  },
  {
   "cell_type": "code",
   "execution_count": 45,
   "metadata": {},
   "outputs": [
    {
     "data": {
      "text/html": [
       "<div>\n",
       "<style scoped>\n",
       "    .dataframe tbody tr th:only-of-type {\n",
       "        vertical-align: middle;\n",
       "    }\n",
       "\n",
       "    .dataframe tbody tr th {\n",
       "        vertical-align: top;\n",
       "    }\n",
       "\n",
       "    .dataframe thead th {\n",
       "        text-align: right;\n",
       "    }\n",
       "</style>\n",
       "<table border=\"1\" class=\"dataframe\">\n",
       "  <thead>\n",
       "    <tr style=\"text-align: right;\">\n",
       "      <th></th>\n",
       "      <th>index</th>\n",
       "      <th>start_station</th>\n",
       "    </tr>\n",
       "  </thead>\n",
       "  <tbody>\n",
       "    <tr>\n",
       "      <th>0</th>\n",
       "      <td>3005</td>\n",
       "      <td>1589</td>\n",
       "    </tr>\n",
       "    <tr>\n",
       "      <th>1</th>\n",
       "      <td>4210</td>\n",
       "      <td>1128</td>\n",
       "    </tr>\n",
       "    <tr>\n",
       "      <th>2</th>\n",
       "      <td>3035</td>\n",
       "      <td>1015</td>\n",
       "    </tr>\n",
       "    <tr>\n",
       "      <th>3</th>\n",
       "      <td>3006</td>\n",
       "      <td>874</td>\n",
       "    </tr>\n",
       "    <tr>\n",
       "      <th>4</th>\n",
       "      <td>4491</td>\n",
       "      <td>816</td>\n",
       "    </tr>\n",
       "    <tr>\n",
       "      <th>...</th>\n",
       "      <td>...</td>\n",
       "      <td>...</td>\n",
       "    </tr>\n",
       "    <tr>\n",
       "      <th>195</th>\n",
       "      <td>4500</td>\n",
       "      <td>11</td>\n",
       "    </tr>\n",
       "    <tr>\n",
       "      <th>196</th>\n",
       "      <td>4573</td>\n",
       "      <td>11</td>\n",
       "    </tr>\n",
       "    <tr>\n",
       "      <th>197</th>\n",
       "      <td>4569</td>\n",
       "      <td>10</td>\n",
       "    </tr>\n",
       "    <tr>\n",
       "      <th>198</th>\n",
       "      <td>4559</td>\n",
       "      <td>9</td>\n",
       "    </tr>\n",
       "    <tr>\n",
       "      <th>199</th>\n",
       "      <td>4432</td>\n",
       "      <td>1</td>\n",
       "    </tr>\n",
       "  </tbody>\n",
       "</table>\n",
       "<p>200 rows × 2 columns</p>\n",
       "</div>"
      ],
      "text/plain": [
       "    index  start_station\n",
       "0    3005           1589\n",
       "1    4210           1128\n",
       "2    3035           1015\n",
       "3    3006            874\n",
       "4    4491            816\n",
       "..    ...            ...\n",
       "195  4500             11\n",
       "196  4573             11\n",
       "197  4569             10\n",
       "198  4559              9\n",
       "199  4432              1\n",
       "\n",
       "[200 rows x 2 columns]"
      ]
     },
     "execution_count": 45,
     "metadata": {},
     "output_type": "execute_result"
    }
   ],
   "source": [
    "S_station_count = S_station_count.reset_index()\n",
    "S_station_count"
   ]
  },
  {
   "cell_type": "code",
   "execution_count": 46,
   "metadata": {},
   "outputs": [
    {
     "data": {
      "text/html": [
       "<div>\n",
       "<style scoped>\n",
       "    .dataframe tbody tr th:only-of-type {\n",
       "        vertical-align: middle;\n",
       "    }\n",
       "\n",
       "    .dataframe tbody tr th {\n",
       "        vertical-align: top;\n",
       "    }\n",
       "\n",
       "    .dataframe thead th {\n",
       "        text-align: right;\n",
       "    }\n",
       "</style>\n",
       "<table border=\"1\" class=\"dataframe\">\n",
       "  <thead>\n",
       "    <tr style=\"text-align: right;\">\n",
       "      <th></th>\n",
       "      <th>index</th>\n",
       "      <th>end_station</th>\n",
       "    </tr>\n",
       "  </thead>\n",
       "  <tbody>\n",
       "    <tr>\n",
       "      <th>0</th>\n",
       "      <td>3005</td>\n",
       "      <td>1575</td>\n",
       "    </tr>\n",
       "    <tr>\n",
       "      <th>1</th>\n",
       "      <td>4210</td>\n",
       "      <td>1090</td>\n",
       "    </tr>\n",
       "    <tr>\n",
       "      <th>2</th>\n",
       "      <td>3000</td>\n",
       "      <td>1029</td>\n",
       "    </tr>\n",
       "    <tr>\n",
       "      <th>3</th>\n",
       "      <td>3035</td>\n",
       "      <td>964</td>\n",
       "    </tr>\n",
       "    <tr>\n",
       "      <th>4</th>\n",
       "      <td>4215</td>\n",
       "      <td>928</td>\n",
       "    </tr>\n",
       "    <tr>\n",
       "      <th>...</th>\n",
       "      <td>...</td>\n",
       "      <td>...</td>\n",
       "    </tr>\n",
       "    <tr>\n",
       "      <th>195</th>\n",
       "      <td>4557</td>\n",
       "      <td>11</td>\n",
       "    </tr>\n",
       "    <tr>\n",
       "      <th>196</th>\n",
       "      <td>4559</td>\n",
       "      <td>10</td>\n",
       "    </tr>\n",
       "    <tr>\n",
       "      <th>197</th>\n",
       "      <td>4432</td>\n",
       "      <td>9</td>\n",
       "    </tr>\n",
       "    <tr>\n",
       "      <th>198</th>\n",
       "      <td>4416</td>\n",
       "      <td>8</td>\n",
       "    </tr>\n",
       "    <tr>\n",
       "      <th>199</th>\n",
       "      <td>4500</td>\n",
       "      <td>6</td>\n",
       "    </tr>\n",
       "  </tbody>\n",
       "</table>\n",
       "<p>200 rows × 2 columns</p>\n",
       "</div>"
      ],
      "text/plain": [
       "    index  end_station\n",
       "0    3005         1575\n",
       "1    4210         1090\n",
       "2    3000         1029\n",
       "3    3035          964\n",
       "4    4215          928\n",
       "..    ...          ...\n",
       "195  4557           11\n",
       "196  4559           10\n",
       "197  4432            9\n",
       "198  4416            8\n",
       "199  4500            6\n",
       "\n",
       "[200 rows x 2 columns]"
      ]
     },
     "execution_count": 46,
     "metadata": {},
     "output_type": "execute_result"
    }
   ],
   "source": [
    "E_station_count = E_station_count.reset_index()\n",
    "E_station_count"
   ]
  },
  {
   "cell_type": "markdown",
   "metadata": {},
   "source": [
    "### Rename columns"
   ]
  },
  {
   "cell_type": "code",
   "execution_count": 47,
   "metadata": {},
   "outputs": [
    {
     "data": {
      "text/plain": [
       "['index', 'start_station']"
      ]
     },
     "execution_count": 47,
     "metadata": {},
     "output_type": "execute_result"
    }
   ],
   "source": [
    "S_station_count.columns.to_list()"
   ]
  },
  {
   "cell_type": "code",
   "execution_count": 48,
   "metadata": {},
   "outputs": [],
   "source": [
    "S_station_count.columns = ['station', 'count']"
   ]
  },
  {
   "cell_type": "code",
   "execution_count": 49,
   "metadata": {},
   "outputs": [
    {
     "data": {
      "text/html": [
       "<div>\n",
       "<style scoped>\n",
       "    .dataframe tbody tr th:only-of-type {\n",
       "        vertical-align: middle;\n",
       "    }\n",
       "\n",
       "    .dataframe tbody tr th {\n",
       "        vertical-align: top;\n",
       "    }\n",
       "\n",
       "    .dataframe thead th {\n",
       "        text-align: right;\n",
       "    }\n",
       "</style>\n",
       "<table border=\"1\" class=\"dataframe\">\n",
       "  <thead>\n",
       "    <tr style=\"text-align: right;\">\n",
       "      <th></th>\n",
       "      <th>station</th>\n",
       "      <th>count</th>\n",
       "    </tr>\n",
       "  </thead>\n",
       "  <tbody>\n",
       "    <tr>\n",
       "      <th>0</th>\n",
       "      <td>3005</td>\n",
       "      <td>1589</td>\n",
       "    </tr>\n",
       "    <tr>\n",
       "      <th>1</th>\n",
       "      <td>4210</td>\n",
       "      <td>1128</td>\n",
       "    </tr>\n",
       "    <tr>\n",
       "      <th>2</th>\n",
       "      <td>3035</td>\n",
       "      <td>1015</td>\n",
       "    </tr>\n",
       "    <tr>\n",
       "      <th>3</th>\n",
       "      <td>3006</td>\n",
       "      <td>874</td>\n",
       "    </tr>\n",
       "    <tr>\n",
       "      <th>4</th>\n",
       "      <td>4491</td>\n",
       "      <td>816</td>\n",
       "    </tr>\n",
       "    <tr>\n",
       "      <th>...</th>\n",
       "      <td>...</td>\n",
       "      <td>...</td>\n",
       "    </tr>\n",
       "    <tr>\n",
       "      <th>195</th>\n",
       "      <td>4500</td>\n",
       "      <td>11</td>\n",
       "    </tr>\n",
       "    <tr>\n",
       "      <th>196</th>\n",
       "      <td>4573</td>\n",
       "      <td>11</td>\n",
       "    </tr>\n",
       "    <tr>\n",
       "      <th>197</th>\n",
       "      <td>4569</td>\n",
       "      <td>10</td>\n",
       "    </tr>\n",
       "    <tr>\n",
       "      <th>198</th>\n",
       "      <td>4559</td>\n",
       "      <td>9</td>\n",
       "    </tr>\n",
       "    <tr>\n",
       "      <th>199</th>\n",
       "      <td>4432</td>\n",
       "      <td>1</td>\n",
       "    </tr>\n",
       "  </tbody>\n",
       "</table>\n",
       "<p>200 rows × 2 columns</p>\n",
       "</div>"
      ],
      "text/plain": [
       "    station  count\n",
       "0      3005   1589\n",
       "1      4210   1128\n",
       "2      3035   1015\n",
       "3      3006    874\n",
       "4      4491    816\n",
       "..      ...    ...\n",
       "195    4500     11\n",
       "196    4573     11\n",
       "197    4569     10\n",
       "198    4559      9\n",
       "199    4432      1\n",
       "\n",
       "[200 rows x 2 columns]"
      ]
     },
     "execution_count": 49,
     "metadata": {},
     "output_type": "execute_result"
    }
   ],
   "source": [
    "S_station_count"
   ]
  },
  {
   "cell_type": "code",
   "execution_count": 50,
   "metadata": {},
   "outputs": [
    {
     "data": {
      "text/html": [
       "<div>\n",
       "<style scoped>\n",
       "    .dataframe tbody tr th:only-of-type {\n",
       "        vertical-align: middle;\n",
       "    }\n",
       "\n",
       "    .dataframe tbody tr th {\n",
       "        vertical-align: top;\n",
       "    }\n",
       "\n",
       "    .dataframe thead th {\n",
       "        text-align: right;\n",
       "    }\n",
       "</style>\n",
       "<table border=\"1\" class=\"dataframe\">\n",
       "  <thead>\n",
       "    <tr style=\"text-align: right;\">\n",
       "      <th></th>\n",
       "      <th>station</th>\n",
       "      <th>count</th>\n",
       "    </tr>\n",
       "  </thead>\n",
       "  <tbody>\n",
       "    <tr>\n",
       "      <th>0</th>\n",
       "      <td>3005</td>\n",
       "      <td>1575</td>\n",
       "    </tr>\n",
       "    <tr>\n",
       "      <th>1</th>\n",
       "      <td>4210</td>\n",
       "      <td>1090</td>\n",
       "    </tr>\n",
       "    <tr>\n",
       "      <th>2</th>\n",
       "      <td>3000</td>\n",
       "      <td>1029</td>\n",
       "    </tr>\n",
       "    <tr>\n",
       "      <th>3</th>\n",
       "      <td>3035</td>\n",
       "      <td>964</td>\n",
       "    </tr>\n",
       "    <tr>\n",
       "      <th>4</th>\n",
       "      <td>4215</td>\n",
       "      <td>928</td>\n",
       "    </tr>\n",
       "    <tr>\n",
       "      <th>...</th>\n",
       "      <td>...</td>\n",
       "      <td>...</td>\n",
       "    </tr>\n",
       "    <tr>\n",
       "      <th>195</th>\n",
       "      <td>4557</td>\n",
       "      <td>11</td>\n",
       "    </tr>\n",
       "    <tr>\n",
       "      <th>196</th>\n",
       "      <td>4559</td>\n",
       "      <td>10</td>\n",
       "    </tr>\n",
       "    <tr>\n",
       "      <th>197</th>\n",
       "      <td>4432</td>\n",
       "      <td>9</td>\n",
       "    </tr>\n",
       "    <tr>\n",
       "      <th>198</th>\n",
       "      <td>4416</td>\n",
       "      <td>8</td>\n",
       "    </tr>\n",
       "    <tr>\n",
       "      <th>199</th>\n",
       "      <td>4500</td>\n",
       "      <td>6</td>\n",
       "    </tr>\n",
       "  </tbody>\n",
       "</table>\n",
       "<p>200 rows × 2 columns</p>\n",
       "</div>"
      ],
      "text/plain": [
       "    station  count\n",
       "0      3005   1575\n",
       "1      4210   1090\n",
       "2      3000   1029\n",
       "3      3035    964\n",
       "4      4215    928\n",
       "..      ...    ...\n",
       "195    4557     11\n",
       "196    4559     10\n",
       "197    4432      9\n",
       "198    4416      8\n",
       "199    4500      6\n",
       "\n",
       "[200 rows x 2 columns]"
      ]
     },
     "execution_count": 50,
     "metadata": {},
     "output_type": "execute_result"
    }
   ],
   "source": [
    "E_station_count.columns.to_list()\n",
    "E_station_count.columns = ['station', 'count']\n",
    "E_station_count"
   ]
  },
  {
   "cell_type": "markdown",
   "metadata": {},
   "source": [
    "I want to plot a graph to see the distributions of ridership among stations."
   ]
  },
  {
   "cell_type": "code",
   "execution_count": 51,
   "metadata": {},
   "outputs": [
    {
     "data": {
      "text/plain": [
       "<matplotlib.axes._subplots.AxesSubplot at 0x7fbf3ec0b0d0>"
      ]
     },
     "execution_count": 51,
     "metadata": {},
     "output_type": "execute_result"
    },
    {
     "data": {
      "image/png": "[encoded data removed]",
      "text/plain": [
       "<Figure size 2880x720 with 1 Axes>"
      ]
     },
     "metadata": {
      "needs_background": "light"
     },
     "output_type": "display_data"
    }
   ],
   "source": [
    "S_station_count.plot.bar(x = 'station', y = 'count', title = 'Number of riders departed for each station', figsize = (40,10)    )"
   ]
  },
  {
   "cell_type": "markdown",
   "metadata": {},
   "source": [
    "Description of Operation:   \n",
    "    \n",
    "    \n",
    "**This operation plotted a graph that shows the distribution of stations in descending order. We can assume that users are concentrated in top 10 stations.**"
   ]
  },
  {
   "cell_type": "markdown",
   "metadata": {},
   "source": [
    "I only want to see the columns that shows the part that I'm going to use. "
   ]
  },
  {
   "cell_type": "code",
   "execution_count": 52,
   "metadata": {},
   "outputs": [
    {
     "name": "stdout",
     "output_type": "stream",
     "text": [
      "<class 'geopandas.geodataframe.GeoDataFrame'>\n",
      "RangeIndex: 37877 entries, 0 to 37876\n",
      "Data columns (total 16 columns):\n",
      " #   Column               Non-Null Count  Dtype   \n",
      "---  ------               --------------  -----   \n",
      " 0   trip_id              37877 non-null  object  \n",
      " 1   duration             37877 non-null  object  \n",
      " 2   start_time           37877 non-null  object  \n",
      " 3   end_time             37877 non-null  object  \n",
      " 4   start_station        37877 non-null  object  \n",
      " 5   start_lat            37877 non-null  object  \n",
      " 6   start_lon            37877 non-null  object  \n",
      " 7   end_station          37877 non-null  object  \n",
      " 8   end_lat              37877 non-null  object  \n",
      " 9   end_lon              37877 non-null  object  \n",
      " 10  bike_id              37877 non-null  object  \n",
      " 11  plan_duration        37877 non-null  object  \n",
      " 12  trip_route_category  37877 non-null  object  \n",
      " 13  passholder_type      37877 non-null  object  \n",
      " 14  bike_type            37877 non-null  object  \n",
      " 15  geometry             0 non-null      geometry\n",
      "dtypes: geometry(1), object(15)\n",
      "memory usage: 4.6+ MB\n"
     ]
    }
   ],
   "source": [
    "bike.info()"
   ]
  },
  {
   "cell_type": "markdown",
   "metadata": {},
   "source": [
    "I will list the columns that I'm interested in."
   ]
  },
  {
   "cell_type": "code",
   "execution_count": 53,
   "metadata": {
    "scrolled": true
   },
   "outputs": [
    {
     "data": {
      "text/html": [
       "<div>\n",
       "<style scoped>\n",
       "    .dataframe tbody tr th:only-of-type {\n",
       "        vertical-align: middle;\n",
       "    }\n",
       "\n",
       "    .dataframe tbody tr th {\n",
       "        vertical-align: top;\n",
       "    }\n",
       "\n",
       "    .dataframe thead th {\n",
       "        text-align: right;\n",
       "    }\n",
       "</style>\n",
       "<table border=\"1\" class=\"dataframe\">\n",
       "  <thead>\n",
       "    <tr style=\"text-align: right;\">\n",
       "      <th></th>\n",
       "      <th>trip_id</th>\n",
       "      <th>duration</th>\n",
       "      <th>start_station</th>\n",
       "      <th>start_lat</th>\n",
       "      <th>start_lon</th>\n",
       "    </tr>\n",
       "  </thead>\n",
       "  <tbody>\n",
       "    <tr>\n",
       "      <th>0</th>\n",
       "      <td>148179433</td>\n",
       "      <td>14</td>\n",
       "      <td>3042</td>\n",
       "      <td>34.049301</td>\n",
       "      <td>-118.238808</td>\n",
       "    </tr>\n",
       "    <tr>\n",
       "      <th>1</th>\n",
       "      <td>148179933</td>\n",
       "      <td>18</td>\n",
       "      <td>4404</td>\n",
       "      <td>34.04813</td>\n",
       "      <td>-118.271027</td>\n",
       "    </tr>\n",
       "    <tr>\n",
       "      <th>2</th>\n",
       "      <td>148182639</td>\n",
       "      <td>141</td>\n",
       "      <td>4482</td>\n",
       "      <td>34.094372</td>\n",
       "      <td>-118.331009</td>\n",
       "    </tr>\n",
       "    <tr>\n",
       "      <th>3</th>\n",
       "      <td>148182739</td>\n",
       "      <td>141</td>\n",
       "      <td>4482</td>\n",
       "      <td>34.094372</td>\n",
       "      <td>-118.331009</td>\n",
       "    </tr>\n",
       "    <tr>\n",
       "      <th>4</th>\n",
       "      <td>148180233</td>\n",
       "      <td>15</td>\n",
       "      <td>3074</td>\n",
       "      <td>34.04417</td>\n",
       "      <td>-118.261169</td>\n",
       "    </tr>\n",
       "    <tr>\n",
       "      <th>...</th>\n",
       "      <td>...</td>\n",
       "      <td>...</td>\n",
       "      <td>...</td>\n",
       "      <td>...</td>\n",
       "      <td>...</td>\n",
       "    </tr>\n",
       "    <tr>\n",
       "      <th>37872</th>\n",
       "      <td>151711987</td>\n",
       "      <td>126</td>\n",
       "      <td>4210</td>\n",
       "      <td>33.984341</td>\n",
       "      <td>-118.47155</td>\n",
       "    </tr>\n",
       "    <tr>\n",
       "      <th>37873</th>\n",
       "      <td>151709683</td>\n",
       "      <td>15</td>\n",
       "      <td>3052</td>\n",
       "      <td>34.051102</td>\n",
       "      <td>-118.264557</td>\n",
       "    </tr>\n",
       "    <tr>\n",
       "      <th>37874</th>\n",
       "      <td>151710184</td>\n",
       "      <td>6</td>\n",
       "      <td>4516</td>\n",
       "      <td>34.045849</td>\n",
       "      <td>-118.254402</td>\n",
       "    </tr>\n",
       "    <tr>\n",
       "      <th>37875</th>\n",
       "      <td>151710183</td>\n",
       "      <td>6</td>\n",
       "      <td>4516</td>\n",
       "      <td>34.045849</td>\n",
       "      <td>-118.254402</td>\n",
       "    </tr>\n",
       "    <tr>\n",
       "      <th>37876</th>\n",
       "      <td>151710983</td>\n",
       "      <td>39</td>\n",
       "      <td>4401</td>\n",
       "      <td>34.075611</td>\n",
       "      <td>-118.291862</td>\n",
       "    </tr>\n",
       "  </tbody>\n",
       "</table>\n",
       "<p>37877 rows × 5 columns</p>\n",
       "</div>"
      ],
      "text/plain": [
       "         trip_id duration start_station  start_lat    start_lon\n",
       "0      148179433       14          3042  34.049301  -118.238808\n",
       "1      148179933       18          4404   34.04813  -118.271027\n",
       "2      148182639      141          4482  34.094372  -118.331009\n",
       "3      148182739      141          4482  34.094372  -118.331009\n",
       "4      148180233       15          3074   34.04417  -118.261169\n",
       "...          ...      ...           ...        ...          ...\n",
       "37872  151711987      126          4210  33.984341   -118.47155\n",
       "37873  151709683       15          3052  34.051102  -118.264557\n",
       "37874  151710184        6          4516  34.045849  -118.254402\n",
       "37875  151710183        6          4516  34.045849  -118.254402\n",
       "37876  151710983       39          4401  34.075611  -118.291862\n",
       "\n",
       "[37877 rows x 5 columns]"
      ]
     },
     "execution_count": 53,
     "metadata": {},
     "output_type": "execute_result"
    }
   ],
   "source": [
    "desired_columns = ['trip_id','duration','start_station','start_lat','start_lon']\n",
    "bike[desired_columns]"
   ]
  },
  {
   "cell_type": "markdown",
   "metadata": {},
   "source": [
    "I want to store this to a variable and make a copy."
   ]
  },
  {
   "cell_type": "code",
   "execution_count": 54,
   "metadata": {},
   "outputs": [
    {
     "data": {
      "text/html": [
       "<div>\n",
       "<style scoped>\n",
       "    .dataframe tbody tr th:only-of-type {\n",
       "        vertical-align: middle;\n",
       "    }\n",
       "\n",
       "    .dataframe tbody tr th {\n",
       "        vertical-align: top;\n",
       "    }\n",
       "\n",
       "    .dataframe thead th {\n",
       "        text-align: right;\n",
       "    }\n",
       "</style>\n",
       "<table border=\"1\" class=\"dataframe\">\n",
       "  <thead>\n",
       "    <tr style=\"text-align: right;\">\n",
       "      <th></th>\n",
       "      <th>trip_id</th>\n",
       "      <th>duration</th>\n",
       "      <th>start_station</th>\n",
       "      <th>start_lat</th>\n",
       "      <th>start_lon</th>\n",
       "    </tr>\n",
       "  </thead>\n",
       "  <tbody>\n",
       "    <tr>\n",
       "      <th>0</th>\n",
       "      <td>148179433</td>\n",
       "      <td>14</td>\n",
       "      <td>3042</td>\n",
       "      <td>34.049301</td>\n",
       "      <td>-118.238808</td>\n",
       "    </tr>\n",
       "    <tr>\n",
       "      <th>1</th>\n",
       "      <td>148179933</td>\n",
       "      <td>18</td>\n",
       "      <td>4404</td>\n",
       "      <td>34.04813</td>\n",
       "      <td>-118.271027</td>\n",
       "    </tr>\n",
       "    <tr>\n",
       "      <th>2</th>\n",
       "      <td>148182639</td>\n",
       "      <td>141</td>\n",
       "      <td>4482</td>\n",
       "      <td>34.094372</td>\n",
       "      <td>-118.331009</td>\n",
       "    </tr>\n",
       "    <tr>\n",
       "      <th>3</th>\n",
       "      <td>148182739</td>\n",
       "      <td>141</td>\n",
       "      <td>4482</td>\n",
       "      <td>34.094372</td>\n",
       "      <td>-118.331009</td>\n",
       "    </tr>\n",
       "    <tr>\n",
       "      <th>4</th>\n",
       "      <td>148180233</td>\n",
       "      <td>15</td>\n",
       "      <td>3074</td>\n",
       "      <td>34.04417</td>\n",
       "      <td>-118.261169</td>\n",
       "    </tr>\n",
       "    <tr>\n",
       "      <th>...</th>\n",
       "      <td>...</td>\n",
       "      <td>...</td>\n",
       "      <td>...</td>\n",
       "      <td>...</td>\n",
       "      <td>...</td>\n",
       "    </tr>\n",
       "    <tr>\n",
       "      <th>37872</th>\n",
       "      <td>151711987</td>\n",
       "      <td>126</td>\n",
       "      <td>4210</td>\n",
       "      <td>33.984341</td>\n",
       "      <td>-118.47155</td>\n",
       "    </tr>\n",
       "    <tr>\n",
       "      <th>37873</th>\n",
       "      <td>151709683</td>\n",
       "      <td>15</td>\n",
       "      <td>3052</td>\n",
       "      <td>34.051102</td>\n",
       "      <td>-118.264557</td>\n",
       "    </tr>\n",
       "    <tr>\n",
       "      <th>37874</th>\n",
       "      <td>151710184</td>\n",
       "      <td>6</td>\n",
       "      <td>4516</td>\n",
       "      <td>34.045849</td>\n",
       "      <td>-118.254402</td>\n",
       "    </tr>\n",
       "    <tr>\n",
       "      <th>37875</th>\n",
       "      <td>151710183</td>\n",
       "      <td>6</td>\n",
       "      <td>4516</td>\n",
       "      <td>34.045849</td>\n",
       "      <td>-118.254402</td>\n",
       "    </tr>\n",
       "    <tr>\n",
       "      <th>37876</th>\n",
       "      <td>151710983</td>\n",
       "      <td>39</td>\n",
       "      <td>4401</td>\n",
       "      <td>34.075611</td>\n",
       "      <td>-118.291862</td>\n",
       "    </tr>\n",
       "  </tbody>\n",
       "</table>\n",
       "<p>37877 rows × 5 columns</p>\n",
       "</div>"
      ],
      "text/plain": [
       "         trip_id duration start_station  start_lat    start_lon\n",
       "0      148179433       14          3042  34.049301  -118.238808\n",
       "1      148179933       18          4404   34.04813  -118.271027\n",
       "2      148182639      141          4482  34.094372  -118.331009\n",
       "3      148182739      141          4482  34.094372  -118.331009\n",
       "4      148180233       15          3074   34.04417  -118.261169\n",
       "...          ...      ...           ...        ...          ...\n",
       "37872  151711987      126          4210  33.984341   -118.47155\n",
       "37873  151709683       15          3052  34.051102  -118.264557\n",
       "37874  151710184        6          4516  34.045849  -118.254402\n",
       "37875  151710183        6          4516  34.045849  -118.254402\n",
       "37876  151710983       39          4401  34.075611  -118.291862\n",
       "\n",
       "[37877 rows x 5 columns]"
      ]
     },
     "execution_count": 54,
     "metadata": {},
     "output_type": "execute_result"
    }
   ],
   "source": [
    "bike_trimmed = bike[desired_columns].copy() \n",
    "bike_trimmed"
   ]
  },
  {
   "cell_type": "markdown",
   "metadata": {},
   "source": [
    "I only want to see the subset of records. I want only the trips that are started in '3005' station."
   ]
  },
  {
   "cell_type": "code",
   "execution_count": 55,
   "metadata": {},
   "outputs": [
    {
     "data": {
      "text/html": [
       "<div>\n",
       "<style scoped>\n",
       "    .dataframe tbody tr th:only-of-type {\n",
       "        vertical-align: middle;\n",
       "    }\n",
       "\n",
       "    .dataframe tbody tr th {\n",
       "        vertical-align: top;\n",
       "    }\n",
       "\n",
       "    .dataframe thead th {\n",
       "        text-align: right;\n",
       "    }\n",
       "</style>\n",
       "<table border=\"1\" class=\"dataframe\">\n",
       "  <thead>\n",
       "    <tr style=\"text-align: right;\">\n",
       "      <th></th>\n",
       "      <th>trip_id</th>\n",
       "      <th>duration</th>\n",
       "      <th>start_station</th>\n",
       "      <th>start_lat</th>\n",
       "      <th>start_lon</th>\n",
       "    </tr>\n",
       "  </thead>\n",
       "  <tbody>\n",
       "    <tr>\n",
       "      <th>7</th>\n",
       "      <td>148181033</td>\n",
       "      <td>9</td>\n",
       "      <td>3005</td>\n",
       "      <td>34.0485</td>\n",
       "      <td>-118.258537</td>\n",
       "    </tr>\n",
       "    <tr>\n",
       "      <th>10</th>\n",
       "      <td>148188740</td>\n",
       "      <td>249</td>\n",
       "      <td>3005</td>\n",
       "      <td>34.0485</td>\n",
       "      <td>-118.258537</td>\n",
       "    </tr>\n",
       "    <tr>\n",
       "      <th>13</th>\n",
       "      <td>148186333</td>\n",
       "      <td>7</td>\n",
       "      <td>3005</td>\n",
       "      <td>34.0485</td>\n",
       "      <td>-118.258537</td>\n",
       "    </tr>\n",
       "    <tr>\n",
       "      <th>30</th>\n",
       "      <td>148190036</td>\n",
       "      <td>11</td>\n",
       "      <td>3005</td>\n",
       "      <td>34.0485</td>\n",
       "      <td>-118.258537</td>\n",
       "    </tr>\n",
       "    <tr>\n",
       "      <th>64</th>\n",
       "      <td>148193238</td>\n",
       "      <td>22</td>\n",
       "      <td>3005</td>\n",
       "      <td>34.0485</td>\n",
       "      <td>-118.258537</td>\n",
       "    </tr>\n",
       "    <tr>\n",
       "      <th>...</th>\n",
       "      <td>...</td>\n",
       "      <td>...</td>\n",
       "      <td>...</td>\n",
       "      <td>...</td>\n",
       "      <td>...</td>\n",
       "    </tr>\n",
       "    <tr>\n",
       "      <th>37763</th>\n",
       "      <td>151707524</td>\n",
       "      <td>8</td>\n",
       "      <td>3005</td>\n",
       "      <td>34.0485</td>\n",
       "      <td>-118.258537</td>\n",
       "    </tr>\n",
       "    <tr>\n",
       "      <th>37774</th>\n",
       "      <td>151707513</td>\n",
       "      <td>13</td>\n",
       "      <td>3005</td>\n",
       "      <td>34.0485</td>\n",
       "      <td>-118.258537</td>\n",
       "    </tr>\n",
       "    <tr>\n",
       "      <th>37796</th>\n",
       "      <td>151707493</td>\n",
       "      <td>32</td>\n",
       "      <td>3005</td>\n",
       "      <td>34.0485</td>\n",
       "      <td>-118.258537</td>\n",
       "    </tr>\n",
       "    <tr>\n",
       "      <th>37811</th>\n",
       "      <td>151707709</td>\n",
       "      <td>47</td>\n",
       "      <td>3005</td>\n",
       "      <td>34.0485</td>\n",
       "      <td>-118.258537</td>\n",
       "    </tr>\n",
       "    <tr>\n",
       "      <th>37863</th>\n",
       "      <td>151707785</td>\n",
       "      <td>27</td>\n",
       "      <td>3005</td>\n",
       "      <td>34.0485</td>\n",
       "      <td>-118.258537</td>\n",
       "    </tr>\n",
       "  </tbody>\n",
       "</table>\n",
       "<p>1589 rows × 5 columns</p>\n",
       "</div>"
      ],
      "text/plain": [
       "         trip_id duration start_station start_lat    start_lon\n",
       "7      148181033        9          3005   34.0485  -118.258537\n",
       "10     148188740      249          3005   34.0485  -118.258537\n",
       "13     148186333        7          3005   34.0485  -118.258537\n",
       "30     148190036       11          3005   34.0485  -118.258537\n",
       "64     148193238       22          3005   34.0485  -118.258537\n",
       "...          ...      ...           ...       ...          ...\n",
       "37763  151707524        8          3005   34.0485  -118.258537\n",
       "37774  151707513       13          3005   34.0485  -118.258537\n",
       "37796  151707493       32          3005   34.0485  -118.258537\n",
       "37811  151707709       47          3005   34.0485  -118.258537\n",
       "37863  151707785       27          3005   34.0485  -118.258537\n",
       "\n",
       "[1589 rows x 5 columns]"
      ]
     },
     "execution_count": 55,
     "metadata": {},
     "output_type": "execute_result"
    }
   ],
   "source": [
    "bike_trimmed[bike_trimmed.start_station == '3005']"
   ]
  },
  {
   "cell_type": "markdown",
   "metadata": {},
   "source": [
    "There is another way to do this work! Like below:"
   ]
  },
  {
   "cell_type": "code",
   "execution_count": 56,
   "metadata": {},
   "outputs": [
    {
     "data": {
      "text/html": [
       "<div>\n",
       "<style scoped>\n",
       "    .dataframe tbody tr th:only-of-type {\n",
       "        vertical-align: middle;\n",
       "    }\n",
       "\n",
       "    .dataframe tbody tr th {\n",
       "        vertical-align: top;\n",
       "    }\n",
       "\n",
       "    .dataframe thead th {\n",
       "        text-align: right;\n",
       "    }\n",
       "</style>\n",
       "<table border=\"1\" class=\"dataframe\">\n",
       "  <thead>\n",
       "    <tr style=\"text-align: right;\">\n",
       "      <th></th>\n",
       "      <th>trip_id</th>\n",
       "      <th>duration</th>\n",
       "      <th>start_station</th>\n",
       "      <th>start_lat</th>\n",
       "      <th>start_lon</th>\n",
       "    </tr>\n",
       "  </thead>\n",
       "  <tbody>\n",
       "    <tr>\n",
       "      <th>7</th>\n",
       "      <td>148181033</td>\n",
       "      <td>9</td>\n",
       "      <td>3005</td>\n",
       "      <td>34.0485</td>\n",
       "      <td>-118.258537</td>\n",
       "    </tr>\n",
       "    <tr>\n",
       "      <th>10</th>\n",
       "      <td>148188740</td>\n",
       "      <td>249</td>\n",
       "      <td>3005</td>\n",
       "      <td>34.0485</td>\n",
       "      <td>-118.258537</td>\n",
       "    </tr>\n",
       "    <tr>\n",
       "      <th>13</th>\n",
       "      <td>148186333</td>\n",
       "      <td>7</td>\n",
       "      <td>3005</td>\n",
       "      <td>34.0485</td>\n",
       "      <td>-118.258537</td>\n",
       "    </tr>\n",
       "    <tr>\n",
       "      <th>30</th>\n",
       "      <td>148190036</td>\n",
       "      <td>11</td>\n",
       "      <td>3005</td>\n",
       "      <td>34.0485</td>\n",
       "      <td>-118.258537</td>\n",
       "    </tr>\n",
       "    <tr>\n",
       "      <th>64</th>\n",
       "      <td>148193238</td>\n",
       "      <td>22</td>\n",
       "      <td>3005</td>\n",
       "      <td>34.0485</td>\n",
       "      <td>-118.258537</td>\n",
       "    </tr>\n",
       "    <tr>\n",
       "      <th>...</th>\n",
       "      <td>...</td>\n",
       "      <td>...</td>\n",
       "      <td>...</td>\n",
       "      <td>...</td>\n",
       "      <td>...</td>\n",
       "    </tr>\n",
       "    <tr>\n",
       "      <th>37763</th>\n",
       "      <td>151707524</td>\n",
       "      <td>8</td>\n",
       "      <td>3005</td>\n",
       "      <td>34.0485</td>\n",
       "      <td>-118.258537</td>\n",
       "    </tr>\n",
       "    <tr>\n",
       "      <th>37774</th>\n",
       "      <td>151707513</td>\n",
       "      <td>13</td>\n",
       "      <td>3005</td>\n",
       "      <td>34.0485</td>\n",
       "      <td>-118.258537</td>\n",
       "    </tr>\n",
       "    <tr>\n",
       "      <th>37796</th>\n",
       "      <td>151707493</td>\n",
       "      <td>32</td>\n",
       "      <td>3005</td>\n",
       "      <td>34.0485</td>\n",
       "      <td>-118.258537</td>\n",
       "    </tr>\n",
       "    <tr>\n",
       "      <th>37811</th>\n",
       "      <td>151707709</td>\n",
       "      <td>47</td>\n",
       "      <td>3005</td>\n",
       "      <td>34.0485</td>\n",
       "      <td>-118.258537</td>\n",
       "    </tr>\n",
       "    <tr>\n",
       "      <th>37863</th>\n",
       "      <td>151707785</td>\n",
       "      <td>27</td>\n",
       "      <td>3005</td>\n",
       "      <td>34.0485</td>\n",
       "      <td>-118.258537</td>\n",
       "    </tr>\n",
       "  </tbody>\n",
       "</table>\n",
       "<p>1589 rows × 5 columns</p>\n",
       "</div>"
      ],
      "text/plain": [
       "         trip_id duration start_station start_lat    start_lon\n",
       "7      148181033        9          3005   34.0485  -118.258537\n",
       "10     148188740      249          3005   34.0485  -118.258537\n",
       "13     148186333        7          3005   34.0485  -118.258537\n",
       "30     148190036       11          3005   34.0485  -118.258537\n",
       "64     148193238       22          3005   34.0485  -118.258537\n",
       "...          ...      ...           ...       ...          ...\n",
       "37763  151707524        8          3005   34.0485  -118.258537\n",
       "37774  151707513       13          3005   34.0485  -118.258537\n",
       "37796  151707493       32          3005   34.0485  -118.258537\n",
       "37811  151707709       47          3005   34.0485  -118.258537\n",
       "37863  151707785       27          3005   34.0485  -118.258537\n",
       "\n",
       "[1589 rows x 5 columns]"
      ]
     },
     "execution_count": 56,
     "metadata": {},
     "output_type": "execute_result"
    }
   ],
   "source": [
    "bike_trimmed.query(\"start_station == '3005'\")"
   ]
  },
  {
   "cell_type": "markdown",
   "metadata": {},
   "source": [
    "Description of Operation:   \n",
    "\n",
    "**The operation above trimmed the table and filtered the data to see the station that I'm interested in.**"
   ]
  },
  {
   "cell_type": "code",
   "execution_count": null,
   "metadata": {},
   "outputs": [],
   "source": []
  },
  {
   "cell_type": "markdown",
   "metadata": {},
   "source": [
    "================\n",
    "Below is just my scribbles.. ==============="
   ]
  },
  {
   "cell_type": "code",
   "execution_count": null,
   "metadata": {},
   "outputs": [],
   "source": []
  },
  {
   "cell_type": "code",
   "execution_count": 30,
   "metadata": {},
   "outputs": [],
   "source": [
    "import folium"
   ]
  },
  {
   "cell_type": "code",
   "execution_count": 31,
   "metadata": {},
   "outputs": [
    {
     "data": {
      "text/html": [
       "<div style=\"width:100%;\"><div style=\"position:relative;width:100%;height:0;padding-bottom:60%;\"><span style=\"color:#565656\">Make this Notebook Trusted to load map: File -> Trust Notebook</span><iframe src=\"about:blank\" style=\"position:absolute;width:100%;height:100%;left:0;top:0;border:none !important;\" data-html=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 onload=\"this.contentDocument.open();this.contentDocument.write(atob(this.getAttribute('data-html')));this.contentDocument.close();\" allowfullscreen webkitallowfullscreen mozallowfullscreen></iframe></div></div>"
      ],
      "text/plain": [
       "<folium.folium.Map at 0x7fbf412dcbb0>"
      ]
     },
     "execution_count": 31,
     "metadata": {},
     "output_type": "execute_result"
    }
   ],
   "source": [
    "m = folium.Map()\n",
    "m"
   ]
  },
  {
   "cell_type": "code",
   "execution_count": null,
   "metadata": {},
   "outputs": [],
   "source": []
  }
 ],
 "metadata": {
  "kernelspec": {
   "display_name": "Python 3",
   "language": "python",
   "name": "python3"
  },
  "language_info": {
   "codemirror_mode": {
    "name": "ipython",
    "version": 3
   },
   "file_extension": ".py",
   "mimetype": "text/x-python",
   "name": "python",
   "nbconvert_exporter": "python",
   "pygments_lexer": "ipython3",
   "version": "3.8.5"
  },
  "toc": {
   "base_numbering": 1,
   "nav_menu": {},
   "number_sections": true,
   "sideBar": true,
   "skip_h1_title": false,
   "title_cell": "Table of Contents",
   "title_sidebar": "Contents",
   "toc_cell": false,
   "toc_position": {},
   "toc_section_display": true,
   "toc_window_display": false
  }
 },
 "nbformat": 4,
 "nbformat_minor": 4
}
